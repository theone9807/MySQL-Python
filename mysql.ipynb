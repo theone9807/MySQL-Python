{
 "cells": [
  {
   "cell_type": "code",
   "execution_count": 2,
   "metadata": {},
   "outputs": [],
   "source": [
    "#import mysql.connector to connect with database\n",
    "import mysql.connector\n",
    "#storing the data of the data base to a variable mydb,\n",
    "# we need to pass 4 argument to the connector user name , password , host, database(optional).\n",
    "mydb = mysql.connector.connect(\n",
    "    host = \"localhost\", \n",
    "    user = \"root\", \n",
    "    password = \"avi@2107\" )\n",
    "#mycursor is an variable which is used to look or modify the data of database\n",
    "mycursor = mydb.cursor()\n",
    "#mycursor.execute() is used to create or show data in database\n",
    "mycursor.execute(\"CREATE DATABASE mydatabase\")\n"
   ]
  },
  {
   "cell_type": "code",
   "execution_count": 3,
   "metadata": {},
   "outputs": [
    {
     "name": "stdout",
     "output_type": "stream",
     "text": [
      "('information_schema',)\n",
      "('mydatabase',)\n",
      "('mydatabase2',)\n",
      "('mysql',)\n",
      "('performance_schema',)\n",
      "('sakila',)\n",
      "('sys',)\n",
      "('world',)\n"
     ]
    }
   ],
   "source": [
    "mycursor.execute(\"SHOW DATABASES\")\n",
    "\n",
    "#we need to loop through the my cursor to get the data \n",
    "for x in mycursor:\n",
    "    print(x) "
   ]
  },
  {
   "cell_type": "code",
   "execution_count": null,
   "metadata": {},
   "outputs": [],
   "source": [
    "#now we will work with the mydatabase created above\n",
    "mydb = mysql.connector.connect(user = \"root\", password = \"avi@2107\", \n",
    "                       host = \"localhost\", database = \"mydatabase\")\n",
    "\n",
    "mycursor = mydb.cursor()\n",
    "#we are creating a students table with 2 column name and age \n",
    "mycursor.execute(\"CREATE TABLE students(name VARCHAR(255), age INTEGER(10))\")"
   ]
  },
  {
   "cell_type": "code",
   "execution_count": 32,
   "metadata": {},
   "outputs": [
    {
     "name": "stdout",
     "output_type": "stream",
     "text": [
      "('students',)\n"
     ]
    }
   ],
   "source": [
    "#show table\n",
    "mycursor.execute(\"SHOW TABLES\")\n",
    "#for loop to loop through the mycursor\n",
    "for x in mycursor:\n",
    "    print(x)"
   ]
  },
  {
   "cell_type": "code",
   "execution_count": 35,
   "metadata": {},
   "outputs": [
    {
     "name": "stdout",
     "output_type": "stream",
     "text": [
      "4 record inserted.\n"
     ]
    }
   ],
   "source": [
    "#sqlformula variable is created to insert multiple values into the students table \n",
    "sqlformula = \"INSERT INTO students(name, age) VALUES(%s, %s)\"\n",
    "students =[(\"ram\", 20),\n",
    "           (\"mohan\", 22),\n",
    "           (\"Harry\",19),\n",
    "           (\"Potter\", 21)]\n",
    "#here executemany is used to insert multiple values into the table \n",
    "mycursor.executemany(sqlformula, students)\n",
    "mydb.commit()\n",
    "#.rowcount is used to count the rou in the students table \n",
    "print(mycursor.rowcount, \"record inserted.\")"
   ]
  },
  {
   "cell_type": "code",
   "execution_count": 36,
   "metadata": {},
   "outputs": [
    {
     "name": "stdout",
     "output_type": "stream",
     "text": [
      "1 record inserted, ID: 0\n"
     ]
    }
   ],
   "source": [
    "print(\"1 record inserted, ID:\", mycursor.lastrowid) "
   ]
  },
  {
   "cell_type": "code",
   "execution_count": 37,
   "metadata": {},
   "outputs": [
    {
     "name": "stdout",
     "output_type": "stream",
     "text": [
      "('ram', 20)\n",
      "('mohan', 22)\n",
      "('Harry', 19)\n",
      "('Potter', 21)\n",
      "('ram', 20)\n",
      "('mohan', 22)\n",
      "('Harry', 19)\n",
      "('Potter', 21)\n"
     ]
    }
   ],
   "source": [
    "#SELECT * FROM is used to select students table and fetchall() is used to display all the data in the  table\n",
    "mycursor.execute(\"SELECT * FROM students\")\n",
    "myresult = mycursor.fetchall()\n",
    "for x in myresult:\n",
    "    print(x)"
   ]
  },
  {
   "cell_type": "code",
   "execution_count": 38,
   "metadata": {},
   "outputs": [
    {
     "name": "stdout",
     "output_type": "stream",
     "text": [
      "8 record inserted.\n"
     ]
    }
   ],
   "source": [
    "print(mycursor.rowcount, \"record inserted.\")"
   ]
  },
  {
   "cell_type": "code",
   "execution_count": null,
   "metadata": {},
   "outputs": [],
   "source": []
  }
 ],
 "metadata": {
  "kernelspec": {
   "display_name": "Python 3",
   "language": "python",
   "name": "python3"
  },
  "language_info": {
   "codemirror_mode": {
    "name": "ipython",
    "version": 3
   },
   "file_extension": ".py",
   "mimetype": "text/x-python",
   "name": "python",
   "nbconvert_exporter": "python",
   "pygments_lexer": "ipython3",
   "version": "3.6.7"
  }
 },
 "nbformat": 4,
 "nbformat_minor": 2
}
